{
 "cells": [
  {
   "cell_type": "code",
   "execution_count": null,
   "id": "98986739",
   "metadata": {
    "vscode": {
     "languageId": "plaintext"
    }
   },
   "outputs": [],
   "source": [
    "import pandas as pd\n",
    "import numpy as np\n",
    "import re\n",
    "import os\n",
    "from pathlib import Path\n",
    "import matplotlib.pyplot as plt\n",
    "import seaborn as sns\n",
    "\n",
    "from sklearn.model_selection import train_test_split\n",
    "from sklearn.metrics import accuracy_score, classification_report, confusion_matrix\n",
    "\n",
    "import tensorflow as tf\n",
    "from tensorflow.keras.preprocessing.text import Tokenizer\n",
    "from tensorflow.keras.preprocessing.sequence import pad_sequences\n",
    "from tensorflow.keras.models import Sequential\n",
    "from tensorflow.keras.layers import Embedding, Conv1D, MaxPooling1D, LSTM, Dense, Dropout, Bidirectional\n",
    "from tensorflow.keras.callbacks import EarlyStopping, ModelCheckpoint\n",
    "\n",
    "# ensure reproducibility\n",
    "tf.random.set_seed(42)\n",
    "\n",
    "# output directories\n",
    "os.makedirs(\"output/models\", exist_ok=True)\n",
    "os.makedirs(\"output/results\", exist_ok=True)\n",
    "os.makedirs(\"output/visualizations\", exist_ok=True)"
   ]
  },
  {
   "cell_type": "code",
   "execution_count": null,
   "id": "2f0d16d9",
   "metadata": {
    "vscode": {
     "languageId": "plaintext"
    }
   },
   "outputs": [],
   "source": [
    "base_dir = Path(\"data/processed\")\n",
    "\n",
    "files = {\n",
    "    \"gossipcop_fake.csv\": \"fake\",\n",
    "    \"gossipcop_real.csv\": \"real\",\n",
    "    \"politifact_fake.csv\": \"fake\",\n",
    "    \"politifact_real.csv\": \"real\",\n",
    "}\n",
    "\n",
    "dfs = []\n",
    "for f, label in files.items():\n",
    "    df = pd.read_csv(base_dir / f)\n",
    "    df[\"label\"] = 0 if label == \"fake\" else 1  # 0=fake, 1=real\n",
    "    dfs.append(df[[\"title\", \"label\"]])\n",
    "\n",
    "full_df = pd.concat(dfs, ignore_index=True)\n",
    "print(\"✅ Combined dataset:\", full_df.shape)\n",
    "full_df.head()"
   ]
  },
  {
   "cell_type": "code",
   "execution_count": null,
   "id": "05e61fa2",
   "metadata": {
    "vscode": {
     "languageId": "plaintext"
    }
   },
   "outputs": [],
   "source": [
    "def clean_text(text):\n",
    "    text = str(text).lower()\n",
    "    text = re.sub(r\"http\\S+\", \"\", text)\n",
    "    text = re.sub(r\"[^a-z0-9\\s]\", \"\", text)\n",
    "    text = re.sub(r\"\\s+\", \" \", text).strip()\n",
    "    return text\n",
    "\n",
    "full_df[\"clean_title\"] = full_df[\"title\"].apply(clean_text)\n",
    "full_df.head()"
   ]
  },
  {
   "cell_type": "code",
   "execution_count": null,
   "id": "c7ad8f19",
   "metadata": {
    "vscode": {
     "languageId": "plaintext"
    }
   },
   "outputs": [],
   "source": [
    "train_df, temp_df = train_test_split(full_df, test_size=0.3, stratify=full_df[\"label\"], random_state=42)\n",
    "val_df, test_df = train_test_split(temp_df, test_size=0.5, stratify=temp_df[\"label\"], random_state=42)\n",
    "\n",
    "print(f\"Train: {len(train_df)} | Val: {len(val_df)} | Test: {len(test_df)}\")"
   ]
  },
  {
   "cell_type": "code",
   "execution_count": null,
   "id": "a4b00907",
   "metadata": {
    "vscode": {
     "languageId": "plaintext"
    }
   },
   "outputs": [],
   "source": [
    "MAX_VOCAB = 20000\n",
    "MAX_LEN = 50\n",
    "\n",
    "tokenizer = Tokenizer(num_words=MAX_VOCAB, oov_token=\"<OOV>\")\n",
    "tokenizer.fit_on_texts(train_df[\"clean_title\"])\n",
    "\n",
    "def tokenize_texts(texts):\n",
    "    seqs = tokenizer.texts_to_sequences(texts)\n",
    "    return pad_sequences(seqs, maxlen=MAX_LEN, padding=\"post\", truncating=\"post\")\n",
    "\n",
    "X_train = tokenize_texts(train_df[\"clean_title\"])\n",
    "X_val = tokenize_texts(val_df[\"clean_title\"])\n",
    "X_test = tokenize_texts(test_df[\"clean_title\"])\n",
    "\n",
    "y_train = np.array(train_df[\"label\"])\n",
    "y_val = np.array(val_df[\"label\"])\n",
    "y_test = np.array(test_df[\"label\"])\n",
    "\n",
    "print(\"✅ Tokenization done:\", X_train.shape, X_val.shape, X_test.shape)"
   ]
  },
  {
   "cell_type": "code",
   "execution_count": null,
   "id": "7434e5d0",
   "metadata": {
    "vscode": {
     "languageId": "plaintext"
    }
   },
   "outputs": [],
   "source": [
    "EMBED_DIM = 128\n",
    "FILTERS = 64\n",
    "LSTM_UNITS = 64\n",
    "\n",
    "model = Sequential([\n",
    "    Embedding(MAX_VOCAB, EMBED_DIM, input_length=MAX_LEN),\n",
    "    Conv1D(FILTERS, 5, activation='relu'),\n",
    "    MaxPooling1D(pool_size=2),\n",
    "    Bidirectional(LSTM(LSTM_UNITS, dropout=0.2, recurrent_dropout=0.2)),\n",
    "    Dense(64, activation='relu'),\n",
    "    Dropout(0.5),\n",
    "    Dense(1, activation='sigmoid')\n",
    "])\n",
    "\n",
    "model.compile(loss='binary_crossentropy', optimizer='adam', metrics=['accuracy'])\n",
    "model.summary()"
   ]
  },
  {
   "cell_type": "code",
   "execution_count": null,
   "id": "858e3bb7",
   "metadata": {
    "vscode": {
     "languageId": "plaintext"
    }
   },
   "outputs": [],
   "source": [
    "es = EarlyStopping(monitor=\"val_loss\", patience=3, restore_best_weights=True)\n",
    "checkpoint_path = \"output/models/cnn_lstm_model.h5\"\n",
    "\n",
    "mc = ModelCheckpoint(checkpoint_path, monitor=\"val_accuracy\", save_best_only=True, verbose=1)\n",
    "\n",
    "history = model.fit(\n",
    "    X_train, y_train,\n",
    "    validation_data=(X_val, y_val),\n",
    "    epochs=10,\n",
    "    batch_size=64,\n",
    "    callbacks=[es, mc],\n",
    "    verbose=1\n",
    ")"
   ]
  },
  {
   "cell_type": "code",
   "execution_count": null,
   "id": "f06507bc",
   "metadata": {
    "vscode": {
     "languageId": "plaintext"
    }
   },
   "outputs": [],
   "source": [
    "plt.figure(figsize=(10,4))\n",
    "plt.plot(history.history['accuracy'], label='Train Acc')\n",
    "plt.plot(history.history['val_accuracy'], label='Val Acc')\n",
    "plt.title(\"CNN-LSTM Accuracy\")\n",
    "plt.xlabel(\"Epoch\")\n",
    "plt.ylabel(\"Accuracy\")\n",
    "plt.legend()\n",
    "plt.savefig(\"output/visualizations/accuracy_curve.png\")\n",
    "plt.show()\n",
    "\n",
    "plt.figure(figsize=(10,4))\n",
    "plt.plot(history.history['loss'], label='Train Loss')\n",
    "plt.plot(history.history['val_loss'], label='Val Loss')\n",
    "plt.title(\"CNN-LSTM Loss\")\n",
    "plt.xlabel(\"Epoch\")\n",
    "plt.ylabel(\"Loss\")\n",
    "plt.legend()\n",
    "plt.savefig(\"output/visualizations/loss_curve.png\")\n",
    "plt.show()"
   ]
  },
  {
   "cell_type": "code",
   "execution_count": null,
   "id": "1fb8b018",
   "metadata": {
    "vscode": {
     "languageId": "plaintext"
    }
   },
   "outputs": [],
   "source": [
    "y_pred = (model.predict(X_test) > 0.5).astype(\"int32\")\n",
    "\n",
    "acc = accuracy_score(y_test, y_pred)\n",
    "print(f\"✅ Test Accuracy: {acc:.4f}\")\n",
    "print(\"\\nClassification Report:\\n\", classification_report(y_test, y_pred, target_names=[\"Fake\", \"Real\"]))"
   ]
  },
  {
   "cell_type": "code",
   "execution_count": null,
   "id": "493e1175",
   "metadata": {
    "vscode": {
     "languageId": "plaintext"
    }
   },
   "outputs": [],
   "source": [
    "cm = confusion_matrix(y_test, y_pred)\n",
    "plt.figure(figsize=(5,4))\n",
    "sns.heatmap(cm, annot=True, fmt=\"d\", cmap=\"Blues\", xticklabels=[\"Fake\", \"Real\"], yticklabels=[\"Fake\", \"Real\"])\n",
    "plt.xlabel(\"Predicted\")\n",
    "plt.ylabel(\"True\")\n",
    "plt.title(\"Confusion Matrix\")\n",
    "plt.savefig(\"output/visualizations/confusion_matrix.png\")\n",
    "plt.show()"
   ]
  },
  {
   "cell_type": "code",
   "execution_count": null,
   "id": "960de037",
   "metadata": {
    "vscode": {
     "languageId": "plaintext"
    }
   },
   "outputs": [],
   "source": [
    "import pickle\n",
    "\n",
    "# Model already saved via checkpoint\n",
    "print(\"✅ Saved model to:\", checkpoint_path)\n",
    "\n",
    "# Save tokenizer\n",
    "with open(\"output/models/tokenizer.pkl\", \"wb\") as f:\n",
    "    pickle.dump(tokenizer, f)\n",
    "print(\"✅ Saved tokenizer.\")"
   ]
  },
  {
   "cell_type": "code",
   "execution_count": null,
   "id": "d664d817",
   "metadata": {
    "vscode": {
     "languageId": "plaintext"
    }
   },
   "outputs": [],
   "source": [
    "def predict_text(text):\n",
    "    cleaned = clean_text(text)\n",
    "    seq = tokenizer.texts_to_sequences([cleaned])\n",
    "    padded = pad_sequences(seq, maxlen=MAX_LEN, padding=\"post\")\n",
    "    pred = model.predict(padded)[0][0]\n",
    "    label = \"Real\" if pred >= 0.5 else \"Fake\"\n",
    "    return label, float(pred)\n",
    "\n",
    "sample = \"Breaking news: scientists found water on Mars!\"\n",
    "label, score = predict_text(sample)\n",
    "print(f\"Prediction: {label} ({score:.3f})\")"
   ]
  }
 ],
 "metadata": {
  "language_info": {
   "name": "python"
  }
 },
 "nbformat": 4,
 "nbformat_minor": 5
}
